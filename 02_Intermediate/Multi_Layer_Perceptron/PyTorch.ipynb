{
 "cells": [
  {
   "cell_type": "markdown",
   "metadata": {},
   "source": [
    "<td>\n",
    "    <a target=\"_blank\" href=\"https://colab.research.google.com/github/jjerry-k/learning_framework/blob/main/02_Intermediate/Multi_Layer_Neural_Network/PyTorch.ipynb\"><img src=\"https://www.tensorflow.org/images/colab_logo_32px.png\" />Run in Google Colab</a>\n",
    "</td>"
   ]
  },
  {
   "cell_type": "code",
   "execution_count": 1,
   "metadata": {},
   "outputs": [],
   "source": [
    "# Importing Modules\n",
    "\n",
    "import torch\n",
    "import torch.nn.functional as F\n",
    "from torch import nn\n",
    "from torch import optim\n",
    "from torch.autograd import Variable\n",
    "from torchvision import utils\n",
    "from torchvision import datasets\n",
    "from torchvision import transforms\n",
    "import numpy as np\n",
    "from matplotlib import pyplot as plt"
   ]
  },
  {
   "cell_type": "code",
   "execution_count": 2,
   "metadata": {},
   "outputs": [
    {
     "name": "stdout",
     "output_type": "stream",
     "text": [
      "Downloading Train Data Done ! \n",
      "Downloading Test Data Done ! \n"
     ]
    }
   ],
   "source": [
    "# Loading Data\n",
    "# MNIST dataset\n",
    "mnist_train = datasets.MNIST(root='../../data/',\n",
    "                          train=True,\n",
    "                          transform=transforms.ToTensor(),\n",
    "                          download=True)\n",
    "print(\"Downloading Train Data Done ! \")\n",
    "\n",
    "mnist_test = datasets.MNIST(root='../../data/',\n",
    "                         train=False,\n",
    "                         transform=transforms.ToTensor(),\n",
    "                         download=True)\n",
    "print(\"Downloading Test Data Done ! \")\n",
    "\n",
    "batch_size = 100\n",
    "\n",
    "data_iter = torch.utils.data.DataLoader(mnist_train, batch_size=100, shuffle=True, num_workers=1)"
   ]
  },
  {
   "cell_type": "code",
   "execution_count": 3,
   "metadata": {},
   "outputs": [],
   "source": [
    "# Defining Model\n",
    "\n",
    "# our model\n",
    "class Model(nn.Module):\n",
    "    def __init__(self):\n",
    "        super(Model, self).__init__()\n",
    "        self.linear1 = nn.Linear(784, 256)\n",
    "        self.linear2 = nn.Linear(256, 10)\n",
    "    \n",
    "    def forward(self, X):\n",
    "        X = F.relu((self.linear1(X)))\n",
    "        X = self.linear2(X)\n",
    "        return X\n",
    "\n",
    "model = Model()\n",
    "criterion = nn.CrossEntropyLoss()\n",
    "optimizer = optim.Adam(model.parameters(), lr=0.001)"
   ]
  },
  {
   "cell_type": "code",
   "execution_count": 4,
   "metadata": {},
   "outputs": [
    {
     "name": "stdout",
     "output_type": "stream",
     "text": [
      "Epoch :  1 Iteration :  100  Loss :  0.7357794952392578\n",
      "Epoch :  1 Iteration :  200  Loss :  0.5272069931030273\n",
      "Epoch :  1 Iteration :  300  Loss :  0.44393310546875\n",
      "Epoch :  1 Iteration :  400  Loss :  0.39480560302734374\n",
      "Epoch :  1 Iteration :  500  Loss :  0.3601686096191406\n",
      "Epoch :  1 Iteration :  600  Loss :  0.33538543701171875\n",
      "Epoch :  1  Loss :  0.33538543701171875\n",
      "Epoch :  2 Iteration :  100  Loss :  0.17751205444335938\n",
      "Epoch :  2 Iteration :  200  Loss :  0.16525100708007812\n",
      "Epoch :  2 Iteration :  300  Loss :  0.15944384256998698\n",
      "Epoch :  2 Iteration :  400  Loss :  0.15666619300842285\n",
      "Epoch :  2 Iteration :  500  Loss :  0.15136935424804687\n",
      "Epoch :  2 Iteration :  600  Loss :  0.14837209065755208\n",
      "Epoch :  2  Loss :  0.14837209065755208\n",
      "Epoch :  3 Iteration :  100  Loss :  0.10980133056640624\n",
      "Epoch :  3 Iteration :  200  Loss :  0.10941987037658692\n",
      "Epoch :  3 Iteration :  300  Loss :  0.10734986623128255\n",
      "Epoch :  3 Iteration :  400  Loss :  0.104974365234375\n",
      "Epoch :  3 Iteration :  500  Loss :  0.10273834228515626\n",
      "Epoch :  3 Iteration :  600  Loss :  0.1007883071899414\n",
      "Epoch :  3  Loss :  0.1007883071899414\n",
      "Epoch :  4 Iteration :  100  Loss :  0.077555832862854\n",
      "Epoch :  4 Iteration :  200  Loss :  0.07416455745697022\n",
      "Epoch :  4 Iteration :  300  Loss :  0.07584781010945638\n",
      "Epoch :  4 Iteration :  400  Loss :  0.07539612293243408\n",
      "Epoch :  4 Iteration :  500  Loss :  0.07588876342773437\n",
      "Epoch :  4 Iteration :  600  Loss :  0.07574092864990234\n",
      "Epoch :  4  Loss :  0.07574092864990234\n",
      "Epoch :  5 Iteration :  100  Loss :  0.06444382190704345\n",
      "Epoch :  5 Iteration :  200  Loss :  0.06197520732879638\n",
      "Epoch :  5 Iteration :  300  Loss :  0.05812368392944336\n",
      "Epoch :  5 Iteration :  400  Loss :  0.058836631774902344\n",
      "Epoch :  5 Iteration :  500  Loss :  0.05776623916625977\n",
      "Epoch :  5 Iteration :  600  Loss :  0.056989860534667966\n",
      "Epoch :  5  Loss :  0.056989860534667966\n",
      "Training Done !\n"
     ]
    }
   ],
   "source": [
    "# Training loop\n",
    "for epoch in range(5):\n",
    "    avg_loss = 0\n",
    "    total_batch = len(mnist_train) // batch_size\n",
    "    for i, (batch_img, batch_lab) in enumerate(data_iter):\n",
    "        X = Variable(batch_img.view(-1, 28*28))\n",
    "        Y = Variable(batch_lab)\n",
    "        \n",
    "        y_pred = model.forward(X)\n",
    "        \n",
    "        loss = criterion(y_pred, Y)\n",
    "        # Zero gradients, perform a backward pass, and update the weights.\n",
    "        optimizer.zero_grad()\n",
    "        loss.backward()\n",
    "        optimizer.step()\n",
    "        avg_loss += loss\n",
    "        if (i+1)%100 == 0 :\n",
    "            print(\"Epoch : \", epoch+1, \"Iteration : \", i+1, \" Loss : \", avg_loss.data.numpy()/(i+1))\n",
    "    print(\"Epoch : \", epoch+1, \" Loss : \", avg_loss.data.numpy()/total_batch)\n",
    "print(\"Training Done !\")"
   ]
  },
  {
   "cell_type": "code",
   "execution_count": 5,
   "metadata": {},
   "outputs": [
    {
     "name": "stdout",
     "output_type": "stream",
     "text": [
      "Accuracy :  97.52\n",
      "Label :  [0]\n",
      "Prediction :  [0]\n"
     ]
    },
    {
     "data": {
      "image/png": "[encoded data removed]",
      "text/plain": [
       "<Figure size 432x288 with 1 Axes>"
      ]
     },
     "metadata": {
      "needs_background": "light"
     },
     "output_type": "display_data"
    }
   ],
   "source": [
    "# Evaluation\n",
    "test_img = mnist_test.data.view(-1, 28*28).type(torch.FloatTensor)\n",
    "test_lab = mnist_test.targets\n",
    "model.eval()\n",
    "outputs = model.forward(test_img)\n",
    "pred_val, pred_idx = torch.max(outputs.data, 1)\n",
    "correct = (pred_idx == test_lab).sum()\n",
    "print('Accuracy : ', correct.data.numpy()/len(test_img)*100)\n",
    "\n",
    "# Testing\n",
    "r = np.random.randint(0, len(mnist_test)-1)\n",
    "X_single_data = mnist_test.data[r:r + 1].view(-1,28*28).float()\n",
    "Y_single_data = mnist_test.targets[r:r + 1]\n",
    "\n",
    "single_prediction = model(X_single_data)\n",
    "plt.imshow(X_single_data.data.view(28,28).numpy(), cmap='gray')\n",
    "\n",
    "print('Label : ', Y_single_data.data.view(1).numpy())\n",
    "print('Prediction : ', torch.max(single_prediction.data, 1)[1].numpy())"
   ]
  }
 ],
 "metadata": {
  "interpreter": {
   "hash": "e272e1fa0d2962f9b40773bcc4be9415f12c8080e9dd32a48a7e1d33b6939010"
  },
  "kernelspec": {
   "display_name": "Python 3.8.12 ('torch')",
   "language": "python",
   "name": "python3"
  },
  "language_info": {
   "codemirror_mode": {
    "name": "ipython",
    "version": 3
   },
   "file_extension": ".py",
   "mimetype": "text/x-python",
   "name": "python",
   "nbconvert_exporter": "python",
   "pygments_lexer": "ipython3",
   "version": "3.8.12"
  },
  "orig_nbformat": 4
 },
 "nbformat": 4,
 "nbformat_minor": 2
}
