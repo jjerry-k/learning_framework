{
 "cells": [
  {
   "cell_type": "code",
   "execution_count": 1,
   "id": "32ad3db8-7a39-4db9-a236-c020e2dcff6a",
   "metadata": {},
   "outputs": [],
   "source": [
    "import os\n",
    "import cv2 as cv\n",
    "import numpy as np\n",
    "import tensorflow as tf\n",
    "from matplotlib import pyplot as plt\n",
    "from tensorflow.keras import activations, layers, models, losses, optimizers, datasets, utils"
   ]
  },
  {
   "cell_type": "code",
   "execution_count": 2,
   "id": "7dce18a6-9d6c-4543-b604-2f3b0c2ff83e",
   "metadata": {},
   "outputs": [],
   "source": [
    "from functools import reduce\n",
    "def compose(*funcs):\n",
    "    \"\"\"Compose arbitrarily many functions, evaluated left to right.\n",
    "\n",
    "    Reference: https://mathieularose.com/function-composition-in-python/\n",
    "    \"\"\"\n",
    "    if funcs:\n",
    "        return reduce(lambda f, g: lambda *a, **kw: g(f(*a, **kw)), funcs)\n",
    "    else:\n",
    "        raise ValueError('Composition of empty sequence not supported.')"
   ]
  },
  {
   "cell_type": "code",
   "execution_count": 3,
   "id": "a6dd7e46-662b-4ba7-874a-3ff7a92c6284",
   "metadata": {},
   "outputs": [],
   "source": [
    "def ResCBN(\n",
    "    filters,kernel_size=3,\n",
    "    activation='relu',strides=1,\n",
    "    padding=\"valid\"):\n",
    "    \n",
    "    conv=layers.Conv2D(\n",
    "        filters, kernel_size=kernel_size,\n",
    "        strides=strides,padding=padding)\n",
    "    bn=layers.BatchNormalization(epsilon=1.001e-05)\n",
    "    layers_list=[conv,bn]\n",
    "    if activation:\n",
    "        act=layers.Activation(activation=activation)\n",
    "        layers_list.append(act)\n",
    "    return compose(*layers_list)\n",
    "\n",
    "def ResBlockV1(x,filters,kernel_sizes=[1,3,1,1],strides=1):\n",
    "    x1=compose(\n",
    "        ResCBN(filters[0],kernel_size=kernel_sizes[0],strides=strides),\n",
    "        ResCBN(filters[1],kernel_size=kernel_sizes[1],padding=\"same\"),\n",
    "        ResCBN(filters[2],kernel_size=kernel_sizes[2],activation=None)\n",
    "    )(x)\n",
    "    x2=ResCBN(\n",
    "        filters[3],kernel_size=kernel_sizes[3],\n",
    "        strides=strides,\n",
    "        activation=None)(x)\n",
    "    x=layers.Add()([x2,x1])\n",
    "    x=layers.Activation(activations.relu)(x)\n",
    "    return x\n",
    "    \n",
    "def ResBlockV2(x,filters,kernel_sizes=[1,3,1]):\n",
    "    x1=compose(\n",
    "        ResCBN(filters[0],kernel_size=kernel_sizes[0]),\n",
    "        ResCBN(filters[1],kernel_size=kernel_sizes[1],padding=\"same\"),\n",
    "        ResCBN(filters[2],kernel_size=kernel_sizes[2],activation=None)\n",
    "    )(x)\n",
    "    x=layers.Add()([x1,x])\n",
    "    x=layers.Activation(activations.relu)(x)\n",
    "    return x"
   ]
  },
  {
   "cell_type": "code",
   "execution_count": 4,
   "id": "3b2785dc-f2a6-42c1-8e8f-02627195dd7f",
   "metadata": {},
   "outputs": [
    {
     "name": "stderr",
     "output_type": "stream",
     "text": [
      "2024-04-17 10:22:28.085504: I tensorflow/stream_executor/cuda/cuda_gpu_executor.cc:936] successful NUMA node read from SysFS had negative value (-1), but there must be at least one NUMA node, so returning NUMA node zero\n",
      "2024-04-17 10:22:28.085760: I tensorflow/stream_executor/cuda/cuda_gpu_executor.cc:936] successful NUMA node read from SysFS had negative value (-1), but there must be at least one NUMA node, so returning NUMA node zero\n",
      "2024-04-17 10:22:28.091451: I tensorflow/stream_executor/cuda/cuda_gpu_executor.cc:936] successful NUMA node read from SysFS had negative value (-1), but there must be at least one NUMA node, so returning NUMA node zero\n",
      "2024-04-17 10:22:28.091725: I tensorflow/stream_executor/cuda/cuda_gpu_executor.cc:936] successful NUMA node read from SysFS had negative value (-1), but there must be at least one NUMA node, so returning NUMA node zero\n",
      "2024-04-17 10:22:28.091923: I tensorflow/stream_executor/cuda/cuda_gpu_executor.cc:936] successful NUMA node read from SysFS had negative value (-1), but there must be at least one NUMA node, so returning NUMA node zero\n",
      "2024-04-17 10:22:28.092109: I tensorflow/stream_executor/cuda/cuda_gpu_executor.cc:936] successful NUMA node read from SysFS had negative value (-1), but there must be at least one NUMA node, so returning NUMA node zero\n",
      "2024-04-17 10:22:28.092852: I tensorflow/core/platform/cpu_feature_guard.cc:151] This TensorFlow binary is optimized with oneAPI Deep Neural Network Library (oneDNN) to use the following CPU instructions in performance-critical operations:  AVX2 FMA\n",
      "To enable them in other operations, rebuild TensorFlow with the appropriate compiler flags.\n",
      "2024-04-17 10:22:28.227874: I tensorflow/stream_executor/cuda/cuda_gpu_executor.cc:936] successful NUMA node read from SysFS had negative value (-1), but there must be at least one NUMA node, so returning NUMA node zero\n",
      "2024-04-17 10:22:28.228099: I tensorflow/stream_executor/cuda/cuda_gpu_executor.cc:936] successful NUMA node read from SysFS had negative value (-1), but there must be at least one NUMA node, so returning NUMA node zero\n",
      "2024-04-17 10:22:28.228297: I tensorflow/stream_executor/cuda/cuda_gpu_executor.cc:936] successful NUMA node read from SysFS had negative value (-1), but there must be at least one NUMA node, so returning NUMA node zero\n",
      "2024-04-17 10:22:28.228477: I tensorflow/stream_executor/cuda/cuda_gpu_executor.cc:936] successful NUMA node read from SysFS had negative value (-1), but there must be at least one NUMA node, so returning NUMA node zero\n",
      "2024-04-17 10:22:28.228658: I tensorflow/stream_executor/cuda/cuda_gpu_executor.cc:936] successful NUMA node read from SysFS had negative value (-1), but there must be at least one NUMA node, so returning NUMA node zero\n",
      "2024-04-17 10:22:28.228839: I tensorflow/stream_executor/cuda/cuda_gpu_executor.cc:936] successful NUMA node read from SysFS had negative value (-1), but there must be at least one NUMA node, so returning NUMA node zero\n",
      "2024-04-17 10:22:28.920115: I tensorflow/stream_executor/cuda/cuda_gpu_executor.cc:936] successful NUMA node read from SysFS had negative value (-1), but there must be at least one NUMA node, so returning NUMA node zero\n",
      "2024-04-17 10:22:28.920368: I tensorflow/stream_executor/cuda/cuda_gpu_executor.cc:936] successful NUMA node read from SysFS had negative value (-1), but there must be at least one NUMA node, so returning NUMA node zero\n",
      "2024-04-17 10:22:28.920564: I tensorflow/stream_executor/cuda/cuda_gpu_executor.cc:936] successful NUMA node read from SysFS had negative value (-1), but there must be at least one NUMA node, so returning NUMA node zero\n",
      "2024-04-17 10:22:28.920754: I tensorflow/stream_executor/cuda/cuda_gpu_executor.cc:936] successful NUMA node read from SysFS had negative value (-1), but there must be at least one NUMA node, so returning NUMA node zero\n",
      "2024-04-17 10:22:28.920943: I tensorflow/stream_executor/cuda/cuda_gpu_executor.cc:936] successful NUMA node read from SysFS had negative value (-1), but there must be at least one NUMA node, so returning NUMA node zero\n",
      "2024-04-17 10:22:28.921106: I tensorflow/core/common_runtime/gpu/gpu_device.cc:1525] Created device /job:localhost/replica:0/task:0/device:GPU:0 with 10243 MB memory:  -> device: 0, name: NVIDIA GeForce RTX 3060, pci bus id: 0000:22:00.0, compute capability: 8.6\n",
      "2024-04-17 10:22:28.921632: I tensorflow/stream_executor/cuda/cuda_gpu_executor.cc:936] successful NUMA node read from SysFS had negative value (-1), but there must be at least one NUMA node, so returning NUMA node zero\n",
      "2024-04-17 10:22:28.921773: I tensorflow/core/common_runtime/gpu/gpu_device.cc:1525] Created device /job:localhost/replica:0/task:0/device:GPU:1 with 10182 MB memory:  -> device: 1, name: NVIDIA GeForce RTX 3060, pci bus id: 0000:23:00.0, compute capability: 8.6\n"
     ]
    }
   ],
   "source": [
    "inp=layers.Input(shape=(224,224,3))\n",
    "x=compose(\n",
    "    layers.ZeroPadding2D(padding=3),\n",
    "    layers.Conv2D(64, 7, strides=2),\n",
    "    layers.BatchNormalization(epsilon=1.001e-05),\n",
    "    layers.Activation(activations.relu),\n",
    "    layers.ZeroPadding2D(),\n",
    "    layers.MaxPooling2D(pool_size=3,strides=2)\n",
    ")(inp)\n",
    "x=ResBlockV1(x,filters=[64,64,256,256])\n",
    "x=ResBlockV2(x,filters=[64,64,256])\n",
    "x=ResBlockV2(x,filters=[64,64,256])\n",
    "\n",
    "x=ResBlockV1(x,filters=[128,128,512,512],strides=2)\n",
    "x=ResBlockV2(x,filters=[128,128,512])\n",
    "x=ResBlockV2(x,filters=[128,128,512])\n",
    "x=ResBlockV2(x,filters=[128,128,512])\n",
    "\n",
    "x=ResBlockV1(x,filters=[256,256,1024,1024],strides=2)\n",
    "x=ResBlockV2(x,filters=[256,256,1024])\n",
    "x=ResBlockV2(x,filters=[256,256,1024])\n",
    "x=ResBlockV2(x,filters=[256,256,1024])\n",
    "x=ResBlockV2(x,filters=[256,256,1024])\n",
    "x=ResBlockV2(x,filters=[256,256,1024])\n",
    "\n",
    "x=ResBlockV1(x,filters=[512,512,2048,2048],strides=2)\n",
    "x=ResBlockV2(x,filters=[512,512,2048])\n",
    "x=ResBlockV2(x,filters=[512,512,2048])\n",
    "x=layers.GlobalAveragePooling2D()(x)\n",
    "out=layers.Dense(1000,activation=\"softmax\")(x)\n",
    "copy_model=models.Model(inp,out)"
   ]
  },
  {
   "cell_type": "code",
   "execution_count": 5,
   "id": "260ffd07-287a-450a-b9f7-53cac55e4730",
   "metadata": {},
   "outputs": [],
   "source": [
    "origin_model=tf.keras.applications.ResNet50(\n",
    "    input_shape=(224,224,3),include_top=True)\n",
    "copy_model.set_weights(origin_model.get_weights())\n",
    "\n",
    "for org, new in zip(origin_model.layers, copy_model.layers):\n",
    "    new._name=org.name"
   ]
  }
 ],
 "metadata": {
  "kernelspec": {
   "display_name": "Python 3 (ipykernel)",
   "language": "python",
   "name": "python3"
  },
  "language_info": {
   "codemirror_mode": {
    "name": "ipython",
    "version": 3
   },
   "file_extension": ".py",
   "mimetype": "text/x-python",
   "name": "python",
   "nbconvert_exporter": "python",
   "pygments_lexer": "ipython3",
   "version": "3.8.19"
  }
 },
 "nbformat": 4,
 "nbformat_minor": 5
}
