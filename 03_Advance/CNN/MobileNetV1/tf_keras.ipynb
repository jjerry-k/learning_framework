{
 "cells": [
  {
   "cell_type": "code",
   "execution_count": 1,
   "id": "1db2a99c-19ee-4d41-bdf4-ec82cd48949a",
   "metadata": {},
   "outputs": [],
   "source": [
    "import os\n",
    "import cv2 as cv\n",
    "import numpy as np\n",
    "import tensorflow as tf\n",
    "import tensorflow.keras.backend as K\n",
    "from matplotlib import pyplot as plt\n",
    "from tensorflow.keras import activations,layers, models, losses, optimizers, datasets, utils"
   ]
  },
  {
   "cell_type": "code",
   "execution_count": 2,
   "id": "3768a694-9fcc-46a9-bc5f-4f382db789d3",
   "metadata": {},
   "outputs": [],
   "source": [
    "from functools import reduce\n",
    "def compose(*funcs):\n",
    "    \"\"\"Compose arbitrarily many functions, evaluated left to right.\n",
    "\n",
    "    Reference: https://mathieularose.com/function-composition-in-python/\n",
    "    \"\"\"\n",
    "    if funcs:\n",
    "        return reduce(lambda f, g: lambda *a, **kw: g(f(*a, **kw)), funcs)\n",
    "    else:\n",
    "        raise ValueError('Composition of empty sequence not supported.')"
   ]
  },
  {
   "cell_type": "code",
   "execution_count": 3,
   "id": "8a6219ab-8a56-466b-8149-2d8140610f7d",
   "metadata": {},
   "outputs": [],
   "source": [
    "def custom_relu(x):\n",
    "    return K.relu(x, max_value=6.0, alpha=0, threshold=0)\n",
    "\n",
    "def mobileBlock(\n",
    "    dw_kernel_size, filters, \n",
    "    name=None,padding=\"valid\", \n",
    "    strides=1, activation=custom_relu):\n",
    "    \n",
    "    layers_list=[\n",
    "        layers.DepthwiseConv2D(\n",
    "        dw_kernel_size, strides=strides,padding=padding,use_bias=False),\n",
    "        layers.BatchNormalization(),\n",
    "        layers.Activation(activation=custom_relu),\n",
    "        layers.Conv2D(filters,1, padding=\"same\",use_bias=False),\n",
    "        layers.BatchNormalization(),\n",
    "        layers.Activation(activation=custom_relu),\n",
    "    ]\n",
    "    return compose(*layers_list)"
   ]
  },
  {
   "cell_type": "code",
   "execution_count": 4,
   "id": "ae28ae7a-1d92-4198-9089-09ab82f81c8c",
   "metadata": {
    "collapsed": true,
    "jupyter": {
     "outputs_hidden": true
    },
    "scrolled": true
   },
   "outputs": [
    {
     "name": "stderr",
     "output_type": "stream",
     "text": [
      "2024-04-17 10:26:38.950861: I tensorflow/stream_executor/cuda/cuda_gpu_executor.cc:936] successful NUMA node read from SysFS had negative value (-1), but there must be at least one NUMA node, so returning NUMA node zero\n",
      "2024-04-17 10:26:38.951113: I tensorflow/stream_executor/cuda/cuda_gpu_executor.cc:936] successful NUMA node read from SysFS had negative value (-1), but there must be at least one NUMA node, so returning NUMA node zero\n",
      "2024-04-17 10:26:38.956853: I tensorflow/stream_executor/cuda/cuda_gpu_executor.cc:936] successful NUMA node read from SysFS had negative value (-1), but there must be at least one NUMA node, so returning NUMA node zero\n",
      "2024-04-17 10:26:38.957094: I tensorflow/stream_executor/cuda/cuda_gpu_executor.cc:936] successful NUMA node read from SysFS had negative value (-1), but there must be at least one NUMA node, so returning NUMA node zero\n",
      "2024-04-17 10:26:38.957284: I tensorflow/stream_executor/cuda/cuda_gpu_executor.cc:936] successful NUMA node read from SysFS had negative value (-1), but there must be at least one NUMA node, so returning NUMA node zero\n",
      "2024-04-17 10:26:38.957474: I tensorflow/stream_executor/cuda/cuda_gpu_executor.cc:936] successful NUMA node read from SysFS had negative value (-1), but there must be at least one NUMA node, so returning NUMA node zero\n",
      "2024-04-17 10:26:38.958195: I tensorflow/core/platform/cpu_feature_guard.cc:151] This TensorFlow binary is optimized with oneAPI Deep Neural Network Library (oneDNN) to use the following CPU instructions in performance-critical operations:  AVX2 FMA\n",
      "To enable them in other operations, rebuild TensorFlow with the appropriate compiler flags.\n",
      "2024-04-17 10:26:39.096127: I tensorflow/stream_executor/cuda/cuda_gpu_executor.cc:936] successful NUMA node read from SysFS had negative value (-1), but there must be at least one NUMA node, so returning NUMA node zero\n",
      "2024-04-17 10:26:39.096348: I tensorflow/stream_executor/cuda/cuda_gpu_executor.cc:936] successful NUMA node read from SysFS had negative value (-1), but there must be at least one NUMA node, so returning NUMA node zero\n",
      "2024-04-17 10:26:39.096541: I tensorflow/stream_executor/cuda/cuda_gpu_executor.cc:936] successful NUMA node read from SysFS had negative value (-1), but there must be at least one NUMA node, so returning NUMA node zero\n",
      "2024-04-17 10:26:39.096722: I tensorflow/stream_executor/cuda/cuda_gpu_executor.cc:936] successful NUMA node read from SysFS had negative value (-1), but there must be at least one NUMA node, so returning NUMA node zero\n",
      "2024-04-17 10:26:39.096903: I tensorflow/stream_executor/cuda/cuda_gpu_executor.cc:936] successful NUMA node read from SysFS had negative value (-1), but there must be at least one NUMA node, so returning NUMA node zero\n",
      "2024-04-17 10:26:39.097083: I tensorflow/stream_executor/cuda/cuda_gpu_executor.cc:936] successful NUMA node read from SysFS had negative value (-1), but there must be at least one NUMA node, so returning NUMA node zero\n",
      "2024-04-17 10:26:39.783889: I tensorflow/stream_executor/cuda/cuda_gpu_executor.cc:936] successful NUMA node read from SysFS had negative value (-1), but there must be at least one NUMA node, so returning NUMA node zero\n",
      "2024-04-17 10:26:39.784138: I tensorflow/stream_executor/cuda/cuda_gpu_executor.cc:936] successful NUMA node read from SysFS had negative value (-1), but there must be at least one NUMA node, so returning NUMA node zero\n",
      "2024-04-17 10:26:39.784332: I tensorflow/stream_executor/cuda/cuda_gpu_executor.cc:936] successful NUMA node read from SysFS had negative value (-1), but there must be at least one NUMA node, so returning NUMA node zero\n",
      "2024-04-17 10:26:39.784524: I tensorflow/stream_executor/cuda/cuda_gpu_executor.cc:936] successful NUMA node read from SysFS had negative value (-1), but there must be at least one NUMA node, so returning NUMA node zero\n",
      "2024-04-17 10:26:39.784711: I tensorflow/stream_executor/cuda/cuda_gpu_executor.cc:936] successful NUMA node read from SysFS had negative value (-1), but there must be at least one NUMA node, so returning NUMA node zero\n",
      "2024-04-17 10:26:39.784876: I tensorflow/core/common_runtime/gpu/gpu_device.cc:1525] Created device /job:localhost/replica:0/task:0/device:GPU:0 with 10243 MB memory:  -> device: 0, name: NVIDIA GeForce RTX 3060, pci bus id: 0000:22:00.0, compute capability: 8.6\n",
      "2024-04-17 10:26:39.785282: I tensorflow/stream_executor/cuda/cuda_gpu_executor.cc:936] successful NUMA node read from SysFS had negative value (-1), but there must be at least one NUMA node, so returning NUMA node zero\n",
      "2024-04-17 10:26:39.785424: I tensorflow/core/common_runtime/gpu/gpu_device.cc:1525] Created device /job:localhost/replica:0/task:0/device:GPU:1 with 10182 MB memory:  -> device: 1, name: NVIDIA GeForce RTX 3060, pci bus id: 0000:23:00.0, compute capability: 8.6\n"
     ]
    }
   ],
   "source": [
    "origin_model=tf.keras.applications.MobileNet(\n",
    "    input_shape=(224,224,3))"
   ]
  },
  {
   "cell_type": "code",
   "execution_count": 5,
   "id": "d5b10ac8-1e94-4061-a5ea-1a1724144b03",
   "metadata": {},
   "outputs": [],
   "source": [
    "inp=layers.Input(shape=(224,224,3))\n",
    "# head\n",
    "x=compose(\n",
    "    layers.Conv2D(32,3,strides=2,padding=\"same\",use_bias= False),\n",
    "    layers.BatchNormalization(),\n",
    "    layers.Activation(activations.relu),# tf.nn.relu6\n",
    ")(inp)\n",
    "\n",
    "x=mobileBlock(3, 64, padding=\"same\",name=\"block1\")(x)\n",
    "x=layers.ZeroPadding2D(padding=((0,1),(0,1)))(x)\n",
    "\n",
    "x=mobileBlock(3, 128, strides=2,padding=\"valid\",name=\"block2\")(x)\n",
    "x=mobileBlock(3, 128, padding=\"same\",name=\"block3\")(x)\n",
    "x=layers.ZeroPadding2D(padding=((0,1),(0,1)))(x)\n",
    "\n",
    "x=mobileBlock(3, 256, strides=2,padding=\"valid\",name=\"block4\")(x)\n",
    "x=mobileBlock(3, 256, padding=\"same\",name=\"block5\")(x)\n",
    "x=layers.ZeroPadding2D(padding=((0,1),(0,1)))(x)\n",
    "\n",
    "x=mobileBlock(3, 512, strides=2,padding=\"valid\",name=\"block6\")(x)\n",
    "x=mobileBlock(3, 512, padding=\"same\",name=\"block7\")(x)\n",
    "x=mobileBlock(3, 512, padding=\"same\",name=\"block8\")(x)\n",
    "x=mobileBlock(3, 512, padding=\"same\",name=\"block9\")(x)\n",
    "x=mobileBlock(3, 512, padding=\"same\",name=\"block10\")(x)\n",
    "x=mobileBlock(3, 512, padding=\"same\",name=\"block11\")(x)\n",
    "x=layers.ZeroPadding2D(padding=((0,1),(0,1)))(x)\n",
    "\n",
    "x=mobileBlock(3, 1024, strides=2,padding=\"valid\",name=\"block12\")(x)\n",
    "x=mobileBlock(3, 1024, padding=\"same\",name=\"block13\")(x)\n",
    "\n",
    "x=layers.GlobalAveragePooling2D(keepdims=True)(x)\n",
    "x=layers.Dropout(rate=0.001)(x)\n",
    "x=layers.Conv2D(1000,1,padding=\"same\")(x)\n",
    "x=layers.Reshape((1000,))(x)\n",
    "out=layers.Activation(activations.softmax)(x)\n",
    "copy_model=models.Model(inp,out)"
   ]
  },
  {
   "cell_type": "code",
   "execution_count": 6,
   "id": "676a14d4-8e7f-41bd-9ecb-f87b049823b0",
   "metadata": {},
   "outputs": [],
   "source": [
    "copy_model.set_weights(origin_model.get_weights())\n",
    "\n",
    "for org, new in zip(origin_model.layers, copy_model.layers):\n",
    "    new._name=org.name"
   ]
  }
 ],
 "metadata": {
  "kernelspec": {
   "display_name": "Python 3 (ipykernel)",
   "language": "python",
   "name": "python3"
  },
  "language_info": {
   "codemirror_mode": {
    "name": "ipython",
    "version": 3
   },
   "file_extension": ".py",
   "mimetype": "text/x-python",
   "name": "python",
   "nbconvert_exporter": "python",
   "pygments_lexer": "ipython3",
   "version": "3.8.19"
  }
 },
 "nbformat": 4,
 "nbformat_minor": 5
}
