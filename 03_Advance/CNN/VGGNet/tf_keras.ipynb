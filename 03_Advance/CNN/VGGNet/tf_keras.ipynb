{
 "cells": [
  {
   "cell_type": "code",
   "execution_count": 1,
   "id": "4261a02c-26c6-4cfb-8898-2be85b545748",
   "metadata": {},
   "outputs": [],
   "source": [
    "import os\n",
    "import cv2 as cv\n",
    "import numpy as np\n",
    "import tensorflow as tf\n",
    "from matplotlib import pyplot as plt\n",
    "from tensorflow.keras import layers, models, losses, optimizers, datasets, utils"
   ]
  },
  {
   "cell_type": "code",
   "execution_count": 2,
   "id": "8325c4e5-e8e2-493e-9df3-3ac64f4ef22e",
   "metadata": {},
   "outputs": [],
   "source": [
    "from functools import reduce\n",
    "def compose(*funcs):\n",
    "    \"\"\"Compose arbitrarily many functions, evaluated left to right.\n",
    "\n",
    "    Reference: https://mathieularose.com/function-composition-in-python/\n",
    "    \"\"\"\n",
    "    if funcs:\n",
    "        return reduce(lambda f, g: lambda *a, **kw: g(f(*a, **kw)), funcs)\n",
    "    else:\n",
    "        raise ValueError('Composition of empty sequence not supported.')"
   ]
  },
  {
   "cell_type": "code",
   "execution_count": 3,
   "id": "387a71e5-d331-49b4-a1b4-8f4e2672a2d7",
   "metadata": {},
   "outputs": [],
   "source": [
    "def vggBlock(filters,kernel_sizes,name=None):\n",
    "    if not isinstance(filters, list):\n",
    "        filters = [filters] * len(kernel_sizes)\n",
    "    conv_layers = [\n",
    "        layers.Conv2D(\n",
    "            i, kernel_size=j, padding='same',\n",
    "            activation='relu') \n",
    "        for i, j in zip(filters, kernel_sizes)]\n",
    "    \n",
    "    layers_list = conv_layers + [layers.MaxPooling2D()]\n",
    "    return compose(*layers_list)\n",
    "\n",
    "def vggFC(filters, activations=\"softmax\", name=None):\n",
    "    if not isinstance(filters, list):\n",
    "        raise ValueError(\"filters must be a list\")\n",
    "    if activations is None:\n",
    "        raise ValueError(\"activations is not null\")\n",
    "    elif not isinstance(activations, list):\n",
    "        activations = [\"relu\"] * (len(filters) - 1) + [activations]\n",
    "\n",
    "    dense_layers = [\n",
    "        layers.Dense(i, activation=j)\n",
    "        for i,j in zip(filters, activations)]\n",
    "    layers_list = [layers.Flatten()] + dense_layers\n",
    "    return compose(*layers_list)"
   ]
  },
  {
   "cell_type": "code",
   "execution_count": 4,
   "id": "c9046e48-ddb3-43fc-81c4-fe337c6ca7f0",
   "metadata": {},
   "outputs": [
    {
     "name": "stderr",
     "output_type": "stream",
     "text": [
      "2024-04-17 09:32:59.390349: I tensorflow/stream_executor/cuda/cuda_gpu_executor.cc:936] successful NUMA node read from SysFS had negative value (-1), but there must be at least one NUMA node, so returning NUMA node zero\n",
      "2024-04-17 09:32:59.390612: I tensorflow/stream_executor/cuda/cuda_gpu_executor.cc:936] successful NUMA node read from SysFS had negative value (-1), but there must be at least one NUMA node, so returning NUMA node zero\n",
      "2024-04-17 09:32:59.396357: I tensorflow/stream_executor/cuda/cuda_gpu_executor.cc:936] successful NUMA node read from SysFS had negative value (-1), but there must be at least one NUMA node, so returning NUMA node zero\n",
      "2024-04-17 09:32:59.396613: I tensorflow/stream_executor/cuda/cuda_gpu_executor.cc:936] successful NUMA node read from SysFS had negative value (-1), but there must be at least one NUMA node, so returning NUMA node zero\n",
      "2024-04-17 09:32:59.396808: I tensorflow/stream_executor/cuda/cuda_gpu_executor.cc:936] successful NUMA node read from SysFS had negative value (-1), but there must be at least one NUMA node, so returning NUMA node zero\n",
      "2024-04-17 09:32:59.396995: I tensorflow/stream_executor/cuda/cuda_gpu_executor.cc:936] successful NUMA node read from SysFS had negative value (-1), but there must be at least one NUMA node, so returning NUMA node zero\n",
      "2024-04-17 09:32:59.397725: I tensorflow/core/platform/cpu_feature_guard.cc:151] This TensorFlow binary is optimized with oneAPI Deep Neural Network Library (oneDNN) to use the following CPU instructions in performance-critical operations:  AVX2 FMA\n",
      "To enable them in other operations, rebuild TensorFlow with the appropriate compiler flags.\n",
      "2024-04-17 09:32:59.534130: I tensorflow/stream_executor/cuda/cuda_gpu_executor.cc:936] successful NUMA node read from SysFS had negative value (-1), but there must be at least one NUMA node, so returning NUMA node zero\n",
      "2024-04-17 09:32:59.534357: I tensorflow/stream_executor/cuda/cuda_gpu_executor.cc:936] successful NUMA node read from SysFS had negative value (-1), but there must be at least one NUMA node, so returning NUMA node zero\n",
      "2024-04-17 09:32:59.534816: I tensorflow/stream_executor/cuda/cuda_gpu_executor.cc:936] successful NUMA node read from SysFS had negative value (-1), but there must be at least one NUMA node, so returning NUMA node zero\n",
      "2024-04-17 09:32:59.535007: I tensorflow/stream_executor/cuda/cuda_gpu_executor.cc:936] successful NUMA node read from SysFS had negative value (-1), but there must be at least one NUMA node, so returning NUMA node zero\n",
      "2024-04-17 09:32:59.535197: I tensorflow/stream_executor/cuda/cuda_gpu_executor.cc:936] successful NUMA node read from SysFS had negative value (-1), but there must be at least one NUMA node, so returning NUMA node zero\n",
      "2024-04-17 09:32:59.535389: I tensorflow/stream_executor/cuda/cuda_gpu_executor.cc:936] successful NUMA node read from SysFS had negative value (-1), but there must be at least one NUMA node, so returning NUMA node zero\n",
      "2024-04-17 09:33:00.231165: I tensorflow/stream_executor/cuda/cuda_gpu_executor.cc:936] successful NUMA node read from SysFS had negative value (-1), but there must be at least one NUMA node, so returning NUMA node zero\n",
      "2024-04-17 09:33:00.231429: I tensorflow/stream_executor/cuda/cuda_gpu_executor.cc:936] successful NUMA node read from SysFS had negative value (-1), but there must be at least one NUMA node, so returning NUMA node zero\n",
      "2024-04-17 09:33:00.231651: I tensorflow/stream_executor/cuda/cuda_gpu_executor.cc:936] successful NUMA node read from SysFS had negative value (-1), but there must be at least one NUMA node, so returning NUMA node zero\n",
      "2024-04-17 09:33:00.231845: I tensorflow/stream_executor/cuda/cuda_gpu_executor.cc:936] successful NUMA node read from SysFS had negative value (-1), but there must be at least one NUMA node, so returning NUMA node zero\n",
      "2024-04-17 09:33:00.232039: I tensorflow/stream_executor/cuda/cuda_gpu_executor.cc:936] successful NUMA node read from SysFS had negative value (-1), but there must be at least one NUMA node, so returning NUMA node zero\n",
      "2024-04-17 09:33:00.232204: I tensorflow/core/common_runtime/gpu/gpu_device.cc:1525] Created device /job:localhost/replica:0/task:0/device:GPU:0 with 10243 MB memory:  -> device: 0, name: NVIDIA GeForce RTX 3060, pci bus id: 0000:22:00.0, compute capability: 8.6\n",
      "2024-04-17 09:33:00.232601: I tensorflow/stream_executor/cuda/cuda_gpu_executor.cc:936] successful NUMA node read from SysFS had negative value (-1), but there must be at least one NUMA node, so returning NUMA node zero\n",
      "2024-04-17 09:33:00.232748: I tensorflow/core/common_runtime/gpu/gpu_device.cc:1525] Created device /job:localhost/replica:0/task:0/device:GPU:1 with 10182 MB memory:  -> device: 1, name: NVIDIA GeForce RTX 3060, pci bus id: 0000:23:00.0, compute capability: 8.6\n"
     ]
    }
   ],
   "source": [
    "inp = layers.Input((224, 224, 3))\n",
    "x = vggBlock(64,[3,3],name=\"block1\")(inp)\n",
    "x = vggBlock(128,[3,3],name=\"block2\")(x)\n",
    "x = vggBlock(256,[3,3,3],name=\"block3\")(x)\n",
    "x = vggBlock(512,[3,3,3],name=\"block4\")(x)\n",
    "x = vggBlock(512,[3,3,3],name=\"block5\")(x)\n",
    "out=vggFC([4096,4096,1000],activations=\"softmax\",name=\"FC\")(x)\n",
    "copy_model=models.Model(inp,out)"
   ]
  },
  {
   "cell_type": "code",
   "execution_count": 5,
   "id": "1eecc8e5-f702-4ef4-bfd6-58396f5d21d2",
   "metadata": {},
   "outputs": [],
   "source": [
    "origin_model=tf.keras.applications.VGG16(\n",
    "    input_shape=(224,224,3),include_top=True)\n",
    "\n",
    "copy_model.set_weights(origin_model.get_weights())\n",
    "\n",
    "for org, new in zip(origin_model.layers, copy_model.layers):\n",
    "    new._name=org.name"
   ]
  }
 ],
 "metadata": {
  "kernelspec": {
   "display_name": "Python 3 (ipykernel)",
   "language": "python",
   "name": "python3"
  },
  "language_info": {
   "codemirror_mode": {
    "name": "ipython",
    "version": 3
   },
   "file_extension": ".py",
   "mimetype": "text/x-python",
   "name": "python",
   "nbconvert_exporter": "python",
   "pygments_lexer": "ipython3",
   "version": "3.8.19"
  }
 },
 "nbformat": 4,
 "nbformat_minor": 5
}
